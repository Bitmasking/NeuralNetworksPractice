{
 "cells": [
  {
   "cell_type": "markdown",
   "metadata": {},
   "source": [
    "# Neural Networks Beginner Practice"
   ]
  },
  {
   "cell_type": "markdown",
   "metadata": {},
   "source": [
    "Usando randomización para identificar numeros escritos a mano"
   ]
  },
  {
   "cell_type": "code",
   "execution_count": 125,
   "metadata": {},
   "outputs": [],
   "source": [
    "import numpy as np\n",
    "import matplotlib.pyplot as plt\n"
   ]
  },
  {
   "cell_type": "code",
   "execution_count": 126,
   "metadata": {},
   "outputs": [],
   "source": [
    "class NeuralNetwork:\n",
    "    def __init__(self, layer_sizes):\n",
    "        weight_shapes = [(a,b) for a,b in zip(layer_sizes[1:],layer_sizes[:-1])]\n",
    "        self.weights = [np.random.standard_normal(s)/s[1]**.5 for s in weight_shapes]\n",
    "        self.biases = [np.zeros((s,1)) for s in layer_sizes[1:]] \n",
    "    \n",
    "    def predict(self,a):\n",
    "        for w,b in zip(self.weights,self.biases):\n",
    "            a = self.activation(np.matmul(w,a)+b)\n",
    "        return a\n",
    "    \n",
    "    def print_accuracy(self, images,labels):\n",
    "        predictions = self.predict(images)\n",
    "        num_correct = sum([np.argmax(a) == np.argmax(b) for a,b in zip(predictions,labels)])\n",
    "        print('{0}/{1} accuracy: {2}%'.format(num_correct,len(images),(num_correct/len(images))*100))\n",
    "    \n",
    "    @staticmethod\n",
    "    def activation(x):\n",
    "        return 1/(1+np.exp(-x))"
   ]
  },
  {
   "cell_type": "code",
   "execution_count": 127,
   "metadata": {},
   "outputs": [
    {
     "data": {
      "image/png": "[encoded data removed]",
      "text/plain": [
       "<Figure size 432x288 with 1 Axes>"
      ]
     },
     "metadata": {
      "needs_background": "light"
     },
     "output_type": "display_data"
    }
   ],
   "source": [
    "\n",
    "\n",
    "with np.load('mnist.npz') as data:\n",
    "    training_images = data['training_images']\n",
    "    training_labels = data['training_labels']\n",
    "\n",
    "plt.imshow(training_images[1].reshape(28,28),cmap = 'gray')\n",
    "plt.show()\n"
   ]
  },
  {
   "cell_type": "code",
   "execution_count": 128,
   "metadata": {},
   "outputs": [
    {
     "name": "stdout",
     "output_type": "stream",
     "text": [
      "4940/50000 accuracy: 9.879999999999999%\n"
     ]
    }
   ],
   "source": [
    "layer_sizes = (784,5,10)\n",
    "\n",
    "net = NeuralNetwork(layer_sizes)\n",
    "prediction = net.print_accuracy(training_images,training_labels)\n"
   ]
  },
  {
   "cell_type": "code",
   "execution_count": 129,
   "metadata": {},
   "outputs": [
    {
     "data": {
      "image/png": "[encoded data removed]",
      "text/plain": [
       "<Figure size 432x288 with 1 Axes>"
      ]
     },
     "metadata": {
      "needs_background": "light"
     },
     "output_type": "display_data"
    }
   ],
   "source": [
    "nw1 = [0.129173436407863, 0.4242933114455002, \n",
    "       1.6154682713449411, 7.5451567587160069]\n",
    "nw2 = [0.12571016850457151, 0.44231149185805047, \n",
    "       1.8435833504677326, 7.61973813981073]\n",
    "nw3 = [0.15854489503205446, 0.70244235144444678, \n",
    "       2.6294803575724157, 10.427062019753425]\n",
    "plt.plot(range(1, 5), nw1, \"ro-\", range(1, 5), nw2, \"go-\", \n",
    "         range(1, 5), nw3, \"bo-\")\n",
    "plt.xlabel('Layer $l$')\n",
    "plt.ylabel(r\"$\\Vert\\nabla C^l_w\\Vert$\")\n",
    "plt.xticks([1, 2, 3, 4])\n",
    "plt.show()"
   ]
  },
  {
   "cell_type": "code",
   "execution_count": null,
   "metadata": {},
   "outputs": [],
   "source": []
  },
  {
   "cell_type": "code",
   "execution_count": null,
   "metadata": {},
   "outputs": [],
   "source": []
  }
 ],
 "metadata": {
  "kernelspec": {
   "display_name": "Python 3",
   "language": "python",
   "name": "python3"
  },
  "language_info": {
   "codemirror_mode": {
    "name": "ipython",
    "version": 3
   },
   "file_extension": ".py",
   "mimetype": "text/x-python",
   "name": "python",
   "nbconvert_exporter": "python",
   "pygments_lexer": "ipython3",
   "version": "3.8.5"
  }
 },
 "nbformat": 4,
 "nbformat_minor": 4
}
